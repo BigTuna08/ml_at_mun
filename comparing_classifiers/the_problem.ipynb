{
 "cells": [
  {
   "cell_type": "markdown",
   "metadata": {},
   "source": [
    "# The problem setup\n",
    "- A friend tells you they have some data, and ask if you \"can do machine learning on it\"\n",
    "- After discussion, you realize they have a classification task (Predicting label given features)\n",
    "- You say to yourself \"aha, I can use a supervised learning classifier to predict the labels from the features\", and tell your friend \"yes I can use machine learning for this\"\n",
    "- How do you proceed?"
   ]
  },
  {
   "cell_type": "code",
   "execution_count": 5,
   "metadata": {},
   "outputs": [],
   "source": [
    "from sklearn.model_selection import train_test_split\n",
    "from sklearn.preprocessing import StandardScaler\n",
    "\n",
    "def load_data(n=0):\n",
    "    if n==0:\n",
    "        from sklearn.datasets import load_digits\n",
    "        digits = load_digits()\n",
    "        return digits.data, digits.target\n",
    "    else:\n",
    "        print(\"Invalid dataset! {}\".format(n))\n",
    "\n",
    "        \n",
    "X, y = load_data() # get data \n",
    "\n",
    "X_train, X_test, y_train, y_test = train_test_split(X, y, test_size=0.3, stratify=y) \n",
    "\n",
    "# scale\n",
    "scaler = StandardScaler().fit(X_train)\n",
    "X_train = scaler.transform(X_train)\n",
    "X_test = scaler.transform(X_test)"
   ]
  },
  {
   "cell_type": "code",
   "execution_count": 6,
   "metadata": {},
   "outputs": [
    {
     "data": {
      "text/plain": [
       "array([[ 0.,  0.,  5., ...,  0.,  0.,  0.],\n",
       "       [ 0.,  0.,  0., ..., 10.,  0.,  0.],\n",
       "       [ 0.,  0.,  0., ..., 16.,  9.,  0.],\n",
       "       ...,\n",
       "       [ 0.,  0.,  1., ...,  6.,  0.,  0.],\n",
       "       [ 0.,  0.,  2., ..., 12.,  0.,  0.],\n",
       "       [ 0.,  0., 10., ..., 12.,  1.,  0.]])"
      ]
     },
     "execution_count": 6,
     "metadata": {},
     "output_type": "execute_result"
    }
   ],
   "source": [
    "X"
   ]
  },
  {
   "cell_type": "code",
   "execution_count": 7,
   "metadata": {},
   "outputs": [
    {
     "data": {
      "text/plain": [
       "array([0, 1, 2, ..., 8, 9, 8])"
      ]
     },
     "execution_count": 7,
     "metadata": {},
     "output_type": "execute_result"
    }
   ],
   "source": [
    "y"
   ]
  },
  {
   "cell_type": "code",
   "execution_count": 13,
   "metadata": {},
   "outputs": [
    {
     "name": "stderr",
     "output_type": "stream",
     "text": [
      "c:\\users\\bigtuna\\appdata\\local\\programs\\python\\python37-32\\lib\\site-packages\\sklearn\\ensemble\\forest.py:245: FutureWarning: The default value of n_estimators will change from 10 in version 0.20 to 100 in 0.22.\n",
      "  \"10 in version 0.20 to 100 in 0.22.\", FutureWarning)\n"
     ]
    },
    {
     "data": {
      "text/plain": [
       "0.9407407407407408"
      ]
     },
     "execution_count": 13,
     "metadata": {},
     "output_type": "execute_result"
    }
   ],
   "source": [
    "from sklearn.ensemble import RandomForestClassifier\n",
    "\n",
    "RandomForestClassifier().fit(X_train, y_train).score(X_test, y_test)"
   ]
  },
  {
   "cell_type": "code",
   "execution_count": 14,
   "metadata": {},
   "outputs": [
    {
     "name": "stderr",
     "output_type": "stream",
     "text": [
      "c:\\users\\bigtuna\\appdata\\local\\programs\\python\\python37-32\\lib\\site-packages\\sklearn\\ensemble\\forest.py:245: FutureWarning: The default value of n_estimators will change from 10 in version 0.20 to 100 in 0.22.\n",
      "  \"10 in version 0.20 to 100 in 0.22.\", FutureWarning)\n"
     ]
    },
    {
     "data": {
      "text/plain": [
       "0.7703703703703704"
      ]
     },
     "execution_count": 14,
     "metadata": {},
     "output_type": "execute_result"
    }
   ],
   "source": [
    "RandomForestClassifier(max_depth=2).fit(X_train, y_train).score(X_test, y_test)"
   ]
  },
  {
   "cell_type": "code",
   "execution_count": 16,
   "metadata": {},
   "outputs": [
    {
     "name": "stderr",
     "output_type": "stream",
     "text": [
      "c:\\users\\bigtuna\\appdata\\local\\programs\\python\\python37-32\\lib\\site-packages\\sklearn\\model_selection\\_split.py:1978: FutureWarning: The default value of cv will change from 3 to 5 in version 0.22. Specify it explicitly to silence this warning.\n",
      "  warnings.warn(CV_WARNING, FutureWarning)\n",
      "c:\\users\\bigtuna\\appdata\\local\\programs\\python\\python37-32\\lib\\site-packages\\sklearn\\model_selection\\_search.py:814: DeprecationWarning: The default of the `iid` parameter will change from True to False in version 0.22 and will be removed in 0.24. This will change numeric results when test-set sizes are unequal.\n",
      "  DeprecationWarning)\n"
     ]
    },
    {
     "data": {
      "text/plain": [
       "0.9740740740740741"
      ]
     },
     "execution_count": 16,
     "metadata": {},
     "output_type": "execute_result"
    }
   ],
   "source": [
    "from sklearn.model_selection import GridSearchCV\n",
    "\n",
    "params = {\n",
    "    \"max_depth\": [1,2,4,6,8],\n",
    "    \"n_estimators\": [10, 100, 250]\n",
    "}\n",
    "GridSearchCV(RandomForestClassifier(), params).fit(X_train, y_train).score(X_test, y_test)"
   ]
  },
  {
   "cell_type": "code",
   "execution_count": 17,
   "metadata": {},
   "outputs": [
    {
     "name": "stderr",
     "output_type": "stream",
     "text": [
      "c:\\users\\bigtuna\\appdata\\local\\programs\\python\\python37-32\\lib\\site-packages\\sklearn\\model_selection\\_split.py:1978: FutureWarning: The default value of cv will change from 3 to 5 in version 0.22. Specify it explicitly to silence this warning.\n",
      "  warnings.warn(CV_WARNING, FutureWarning)\n",
      "c:\\users\\bigtuna\\appdata\\local\\programs\\python\\python37-32\\lib\\site-packages\\sklearn\\model_selection\\_search.py:814: DeprecationWarning: The default of the `iid` parameter will change from True to False in version 0.22 and will be removed in 0.24. This will change numeric results when test-set sizes are unequal.\n",
      "  DeprecationWarning)\n"
     ]
    },
    {
     "data": {
      "text/plain": [
       "GridSearchCV(cv='warn', error_score='raise-deprecating',\n",
       "             estimator=RandomForestClassifier(bootstrap=True, class_weight=None,\n",
       "                                              criterion='gini', max_depth=None,\n",
       "                                              max_features='auto',\n",
       "                                              max_leaf_nodes=None,\n",
       "                                              min_impurity_decrease=0.0,\n",
       "                                              min_impurity_split=None,\n",
       "                                              min_samples_leaf=1,\n",
       "                                              min_samples_split=2,\n",
       "                                              min_weight_fraction_leaf=0.0,\n",
       "                                              n_estimators='warn', n_jobs=None,\n",
       "                                              oob_score=False,\n",
       "                                              random_state=None, verbose=0,\n",
       "                                              warm_start=False),\n",
       "             iid='warn', n_jobs=None,\n",
       "             param_grid={'max_depth': [1, 2, 4, 6, 8],\n",
       "                         'n_estimators': [10, 100, 250]},\n",
       "             pre_dispatch='2*n_jobs', refit=True, return_train_score=False,\n",
       "             scoring=None, verbose=0)"
      ]
     },
     "execution_count": 17,
     "metadata": {},
     "output_type": "execute_result"
    }
   ],
   "source": [
    "gs = GridSearchCV(RandomForestClassifier(), params).fit(X_train, y_train)\n",
    "gs"
   ]
  },
  {
   "cell_type": "code",
   "execution_count": 18,
   "metadata": {},
   "outputs": [
    {
     "data": {
      "text/plain": [
       "RandomForestClassifier(bootstrap=True, class_weight=None, criterion='gini',\n",
       "                       max_depth=8, max_features='auto', max_leaf_nodes=None,\n",
       "                       min_impurity_decrease=0.0, min_impurity_split=None,\n",
       "                       min_samples_leaf=1, min_samples_split=2,\n",
       "                       min_weight_fraction_leaf=0.0, n_estimators=100,\n",
       "                       n_jobs=None, oob_score=False, random_state=None,\n",
       "                       verbose=0, warm_start=False)"
      ]
     },
     "execution_count": 18,
     "metadata": {},
     "output_type": "execute_result"
    }
   ],
   "source": [
    "gs.best_estimator_"
   ]
  },
  {
   "cell_type": "code",
   "execution_count": 19,
   "metadata": {},
   "outputs": [
    {
     "data": {
      "text/plain": [
       "{'mean_fit_time': array([0.01396569, 0.08177098, 0.1948123 , 0.00930866, 0.09906753,\n",
       "        0.23038324, 0.01230065, 0.11334205, 0.28557054, 0.01429494,\n",
       "        0.15491851, 0.368349  , 0.01795189, 0.16257612, 0.40525007]),\n",
       " 'std_fit_time': array([3.55198391e-03, 2.95606074e-03, 5.54401896e-03, 4.70134046e-04,\n",
       "        5.44103545e-03, 2.93752498e-03, 4.70249702e-04, 9.55386552e-04,\n",
       "        5.42207937e-03, 4.70134046e-04, 4.01698491e-03, 1.87963705e-03,\n",
       "        2.97360213e-07, 2.94131505e-03, 6.53295330e-03]),\n",
       " 'mean_score_time': array([0.00165876, 0.01098029, 0.02692787, 0.00166273, 0.01263301,\n",
       "        0.03126009, 0.00166186, 0.01264413, 0.03025182, 0.00199477,\n",
       "        0.01462785, 0.03326503, 0.00166178, 0.01396203, 0.03291114]),\n",
       " 'std_score_time': array([9.42355787e-04, 1.38807034e-05, 1.12391596e-07, 4.70696648e-04,\n",
       "        4.70304900e-04, 2.61245389e-03, 4.69067548e-04, 4.77162939e-04,\n",
       "        9.39930918e-04, 1.12391596e-07, 9.40795692e-04, 4.79688240e-04,\n",
       "        4.69853319e-04, 1.03008599e-06, 1.23630756e-06]),\n",
       " 'param_max_depth': masked_array(data=[1, 1, 1, 2, 2, 2, 4, 4, 4, 6, 6, 6, 8, 8, 8],\n",
       "              mask=[False, False, False, False, False, False, False, False,\n",
       "                    False, False, False, False, False, False, False],\n",
       "        fill_value='?',\n",
       "             dtype=object),\n",
       " 'param_n_estimators': masked_array(data=[10, 100, 250, 10, 100, 250, 10, 100, 250, 10, 100, 250,\n",
       "                    10, 100, 250],\n",
       "              mask=[False, False, False, False, False, False, False, False,\n",
       "                    False, False, False, False, False, False, False],\n",
       "        fill_value='?',\n",
       "             dtype=object),\n",
       " 'params': [{'max_depth': 1, 'n_estimators': 10},\n",
       "  {'max_depth': 1, 'n_estimators': 100},\n",
       "  {'max_depth': 1, 'n_estimators': 250},\n",
       "  {'max_depth': 2, 'n_estimators': 10},\n",
       "  {'max_depth': 2, 'n_estimators': 100},\n",
       "  {'max_depth': 2, 'n_estimators': 250},\n",
       "  {'max_depth': 4, 'n_estimators': 10},\n",
       "  {'max_depth': 4, 'n_estimators': 100},\n",
       "  {'max_depth': 4, 'n_estimators': 250},\n",
       "  {'max_depth': 6, 'n_estimators': 10},\n",
       "  {'max_depth': 6, 'n_estimators': 100},\n",
       "  {'max_depth': 6, 'n_estimators': 250},\n",
       "  {'max_depth': 8, 'n_estimators': 10},\n",
       "  {'max_depth': 8, 'n_estimators': 100},\n",
       "  {'max_depth': 8, 'n_estimators': 250}],\n",
       " 'split0_test_score': array([0.50707547, 0.73584906, 0.71698113, 0.70283019, 0.83018868,\n",
       "        0.82783019, 0.86556604, 0.89386792, 0.92216981, 0.89622642,\n",
       "        0.93396226, 0.93632075, 0.92924528, 0.94811321, 0.94575472]),\n",
       " 'split1_test_score': array([0.38995215, 0.71291866, 0.75837321, 0.72727273, 0.82296651,\n",
       "        0.83253589, 0.86363636, 0.90669856, 0.90430622, 0.90669856,\n",
       "        0.94019139, 0.94019139, 0.8923445 , 0.95454545, 0.95454545]),\n",
       " 'split2_test_score': array([0.65542169, 0.71325301, 0.71325301, 0.66024096, 0.78795181,\n",
       "        0.84337349, 0.83614458, 0.92289157, 0.93493976, 0.92048193,\n",
       "        0.95662651, 0.95903614, 0.91807229, 0.96385542, 0.96385542]),\n",
       " 'mean_test_score': array([0.51710422, 0.72076372, 0.72951472, 0.69689737, 0.81384248,\n",
       "        0.83452665, 0.85521082, 0.90771679, 0.92044551, 0.90771679,\n",
       "        0.94351631, 0.9451074 , 0.9132856 , 0.95544948, 0.95465394]),\n",
       " 'std_test_score': array([0.10828961, 0.01076341, 0.02042636, 0.02761004, 0.01841524,\n",
       "        0.00650259, 0.01340872, 0.011877  , 0.01252918, 0.00993364,\n",
       "        0.00955047, 0.00990612, 0.01546962, 0.00646178, 0.00739396]),\n",
       " 'rank_test_score': array([15, 13, 12, 14, 11, 10,  9,  7,  5,  7,  4,  3,  6,  1,  2],\n",
       "       dtype=int32)}"
      ]
     },
     "execution_count": 19,
     "metadata": {},
     "output_type": "execute_result"
    }
   ],
   "source": [
    "gs.cv_results_"
   ]
  },
  {
   "cell_type": "code",
   "execution_count": 20,
   "metadata": {},
   "outputs": [
    {
     "data": {
      "text/plain": [
       "array([0.51710422, 0.72076372, 0.72951472, 0.69689737, 0.81384248,\n",
       "       0.83452665, 0.85521082, 0.90771679, 0.92044551, 0.90771679,\n",
       "       0.94351631, 0.9451074 , 0.9132856 , 0.95544948, 0.95465394])"
      ]
     },
     "execution_count": 20,
     "metadata": {},
     "output_type": "execute_result"
    }
   ],
   "source": [
    "gs.cv_results_['mean_test_score']"
   ]
  },
  {
   "cell_type": "code",
   "execution_count": null,
   "metadata": {},
   "outputs": [],
   "source": []
  }
 ],
 "metadata": {
  "kernelspec": {
   "display_name": "Python 3",
   "language": "python",
   "name": "python3"
  },
  "language_info": {
   "codemirror_mode": {
    "name": "ipython",
    "version": 3
   },
   "file_extension": ".py",
   "mimetype": "text/x-python",
   "name": "python",
   "nbconvert_exporter": "python",
   "pygments_lexer": "ipython3",
   "version": "3.7.3"
  }
 },
 "nbformat": 4,
 "nbformat_minor": 2
}
