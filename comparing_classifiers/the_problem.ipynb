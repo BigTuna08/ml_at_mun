{
 "cells": [
  {
   "cell_type": "markdown",
   "metadata": {},
   "source": [
    "# The problem setup\n",
    "- A friend tells you they have some data, and ask if you \"can do machine learning on it\"\n",
    "- After discussion, you realize they have a classification task (Predicting label given features)\n",
    "- You say to yourself \"aha, I can use a supervised learning classifier to predict the labels from the features\", and tell your friend \"yes I can use machine learning for this\"\n",
    "- How do you proceed?\n",
    "\n",
    "\n",
    "\n",
    "\n",
    "\n",
    "\n"
   ]
  },
  {
   "cell_type": "code",
   "execution_count": 18,
   "metadata": {},
   "outputs": [],
   "source": [
    "from sklearn.model_selection import train_test_split\n",
    "from sklearn.preprocessing import StandardScaler\n",
    "\n",
    "def load_data(n=0):\n",
    "    if n==0:\n",
    "        from sklearn.datasets import load_digits\n",
    "        digits = load_digits()\n",
    "        return digits.data, digits.target\n",
    "    if n==1:\n",
    "        from sklearn.datasets import load_breast_cancer\n",
    "        return load_breast_cancer(return_X_y=True)\n",
    "    else:\n",
    "        print(\"Invalid dataset! {}\".format(n))\n",
    "\n",
    "        \n",
    "X, y = load_data(0) # get data \n",
    "\n",
    "X_train, X_test, y_train, y_test = train_test_split(X, y, test_size=0.3, stratify=y) \n",
    "\n",
    "# scale\n",
    "scaler = StandardScaler().fit(X_train)\n",
    "X_train = scaler.transform(X_train)\n",
    "X_test = scaler.transform(X_test)"
   ]
  },
  {
   "cell_type": "code",
   "execution_count": 19,
   "metadata": {},
   "outputs": [
    {
     "data": {
      "text/plain": [
       "array([[ 0.,  0.,  5., ...,  0.,  0.,  0.],\n",
       "       [ 0.,  0.,  0., ..., 10.,  0.,  0.],\n",
       "       [ 0.,  0.,  0., ..., 16.,  9.,  0.],\n",
       "       ...,\n",
       "       [ 0.,  0.,  1., ...,  6.,  0.,  0.],\n",
       "       [ 0.,  0.,  2., ..., 12.,  0.,  0.],\n",
       "       [ 0.,  0., 10., ..., 12.,  1.,  0.]])"
      ]
     },
     "execution_count": 19,
     "metadata": {},
     "output_type": "execute_result"
    }
   ],
   "source": [
    "X"
   ]
  },
  {
   "cell_type": "code",
   "execution_count": 20,
   "metadata": {},
   "outputs": [
    {
     "data": {
      "text/plain": [
       "array([0, 1, 2, ..., 8, 9, 8])"
      ]
     },
     "execution_count": 20,
     "metadata": {},
     "output_type": "execute_result"
    }
   ],
   "source": [
    "y"
   ]
  },
  {
   "cell_type": "code",
   "execution_count": 34,
   "metadata": {},
   "outputs": [
    {
     "name": "stderr",
     "output_type": "stream",
     "text": [
      "c:\\users\\bigtuna\\appdata\\local\\programs\\python\\python37-32\\lib\\site-packages\\sklearn\\ensemble\\forest.py:245: FutureWarning: The default value of n_estimators will change from 10 in version 0.20 to 100 in 0.22.\n",
      "  \"10 in version 0.20 to 100 in 0.22.\", FutureWarning)\n"
     ]
    },
    {
     "data": {
      "text/plain": [
       "0.95"
      ]
     },
     "execution_count": 34,
     "metadata": {},
     "output_type": "execute_result"
    }
   ],
   "source": [
    "from sklearn.ensemble import RandomForestClassifier\n",
    "\n",
    "RandomForestClassifier().fit(X_train, y_train).score(X_test, y_test)"
   ]
  },
  {
   "cell_type": "code",
   "execution_count": 32,
   "metadata": {},
   "outputs": [
    {
     "name": "stderr",
     "output_type": "stream",
     "text": [
      "c:\\users\\bigtuna\\appdata\\local\\programs\\python\\python37-32\\lib\\site-packages\\sklearn\\ensemble\\forest.py:245: FutureWarning: The default value of n_estimators will change from 10 in version 0.20 to 100 in 0.22.\n",
      "  \"10 in version 0.20 to 100 in 0.22.\", FutureWarning)\n"
     ]
    },
    {
     "data": {
      "text/plain": [
       "0.8518518518518519"
      ]
     },
     "execution_count": 32,
     "metadata": {},
     "output_type": "execute_result"
    }
   ],
   "source": [
    "RandomForestClassifier(max_depth=4).fit(X_train, y_train).score(X_test, y_test)"
   ]
  },
  {
   "cell_type": "code",
   "execution_count": 38,
   "metadata": {},
   "outputs": [
    {
     "name": "stderr",
     "output_type": "stream",
     "text": [
      "c:\\users\\bigtuna\\appdata\\local\\programs\\python\\python37-32\\lib\\site-packages\\sklearn\\model_selection\\_split.py:1978: FutureWarning: The default value of cv will change from 3 to 5 in version 0.22. Specify it explicitly to silence this warning.\n",
      "  warnings.warn(CV_WARNING, FutureWarning)\n",
      "c:\\users\\bigtuna\\appdata\\local\\programs\\python\\python37-32\\lib\\site-packages\\sklearn\\model_selection\\_search.py:814: DeprecationWarning: The default of the `iid` parameter will change from True to False in version 0.22 and will be removed in 0.24. This will change numeric results when test-set sizes are unequal.\n",
      "  DeprecationWarning)\n"
     ]
    },
    {
     "data": {
      "text/plain": [
       "0.9777777777777777"
      ]
     },
     "execution_count": 38,
     "metadata": {},
     "output_type": "execute_result"
    }
   ],
   "source": [
    "from sklearn.model_selection import GridSearchCV\n",
    "\n",
    "params = {\n",
    "    \"max_depth\": [1,2,4,6,8,10,12],\n",
    "    \"n_estimators\": [10, 100, 250]\n",
    "}\n",
    "GridSearchCV(RandomForestClassifier(), params).fit(X_train, y_train).score(X_test, y_test)"
   ]
  },
  {
   "cell_type": "code",
   "execution_count": 39,
   "metadata": {},
   "outputs": [
    {
     "name": "stderr",
     "output_type": "stream",
     "text": [
      "c:\\users\\bigtuna\\appdata\\local\\programs\\python\\python37-32\\lib\\site-packages\\sklearn\\model_selection\\_split.py:1978: FutureWarning: The default value of cv will change from 3 to 5 in version 0.22. Specify it explicitly to silence this warning.\n",
      "  warnings.warn(CV_WARNING, FutureWarning)\n"
     ]
    },
    {
     "data": {
      "text/plain": [
       "GridSearchCV(cv='warn', error_score='raise-deprecating',\n",
       "             estimator=RandomForestClassifier(bootstrap=True, class_weight=None,\n",
       "                                              criterion='gini', max_depth=None,\n",
       "                                              max_features='auto',\n",
       "                                              max_leaf_nodes=None,\n",
       "                                              min_impurity_decrease=0.0,\n",
       "                                              min_impurity_split=None,\n",
       "                                              min_samples_leaf=1,\n",
       "                                              min_samples_split=2,\n",
       "                                              min_weight_fraction_leaf=0.0,\n",
       "                                              n_estimators='warn', n_jobs=None,\n",
       "                                              oob_score=False,\n",
       "                                              random_state=None, verbose=0,\n",
       "                                              warm_start=False),\n",
       "             iid='warn', n_jobs=None,\n",
       "             param_grid={'max_depth': [1, 2, 4, 6, 8, 10, 12],\n",
       "                         'n_estimators': [10, 100, 250]},\n",
       "             pre_dispatch='2*n_jobs', refit=True, return_train_score=False,\n",
       "             scoring=None, verbose=0)"
      ]
     },
     "execution_count": 39,
     "metadata": {},
     "output_type": "execute_result"
    }
   ],
   "source": [
    "gs = GridSearchCV(RandomForestClassifier(), params).fit(X_train, y_train)\n",
    "gs"
   ]
  },
  {
   "cell_type": "code",
   "execution_count": 40,
   "metadata": {},
   "outputs": [
    {
     "data": {
      "text/plain": [
       "RandomForestClassifier(bootstrap=True, class_weight=None, criterion='gini',\n",
       "                       max_depth=12, max_features='auto', max_leaf_nodes=None,\n",
       "                       min_impurity_decrease=0.0, min_impurity_split=None,\n",
       "                       min_samples_leaf=1, min_samples_split=2,\n",
       "                       min_weight_fraction_leaf=0.0, n_estimators=100,\n",
       "                       n_jobs=None, oob_score=False, random_state=None,\n",
       "                       verbose=0, warm_start=False)"
      ]
     },
     "execution_count": 40,
     "metadata": {},
     "output_type": "execute_result"
    }
   ],
   "source": [
    "gs.best_estimator_"
   ]
  },
  {
   "cell_type": "code",
   "execution_count": 37,
   "metadata": {},
   "outputs": [
    {
     "data": {
      "text/plain": [
       "{'mean_fit_time': array([0.01338434, 0.12972275, 0.22018814, 0.010595  , 0.10965165,\n",
       "        0.26528525, 0.01318034, 0.13924837, 0.32175549, 0.01502037,\n",
       "        0.15135757, 0.36860498, 0.01648847, 0.17508777, 0.44358524]),\n",
       " 'std_fit_time': array([0.00232009, 0.03908497, 0.00922452, 0.00245019, 0.02333404,\n",
       "        0.01803382, 0.00115622, 0.0263095 , 0.02038076, 0.00133703,\n",
       "        0.00493916, 0.00262192, 0.00066761, 0.01540415, 0.04459966]),\n",
       " 'mean_score_time': array([0.00205509, 0.01852862, 0.03087529, 0.00115633, 0.01338029,\n",
       "        0.02945749, 0.00171129, 0.01539469, 0.03129117, 0.00264374,\n",
       "        0.01467578, 0.04181393, 0.00266751, 0.01412368, 0.03498022]),\n",
       " 'std_score_time': array([0.00221414, 0.00993426, 0.00236156, 0.0016353 , 0.00127884,\n",
       "        0.00067228, 0.00242013, 0.00154095, 0.00210027, 0.00125626,\n",
       "        0.00191588, 0.01394266, 0.00188621, 0.00132664, 0.00231681]),\n",
       " 'param_max_depth': masked_array(data=[1, 1, 1, 2, 2, 2, 4, 4, 4, 6, 6, 6, 8, 8, 8],\n",
       "              mask=[False, False, False, False, False, False, False, False,\n",
       "                    False, False, False, False, False, False, False],\n",
       "        fill_value='?',\n",
       "             dtype=object),\n",
       " 'param_n_estimators': masked_array(data=[10, 100, 250, 10, 100, 250, 10, 100, 250, 10, 100, 250,\n",
       "                    10, 100, 250],\n",
       "              mask=[False, False, False, False, False, False, False, False,\n",
       "                    False, False, False, False, False, False, False],\n",
       "        fill_value='?',\n",
       "             dtype=object),\n",
       " 'params': [{'max_depth': 1, 'n_estimators': 10},\n",
       "  {'max_depth': 1, 'n_estimators': 100},\n",
       "  {'max_depth': 1, 'n_estimators': 250},\n",
       "  {'max_depth': 2, 'n_estimators': 10},\n",
       "  {'max_depth': 2, 'n_estimators': 100},\n",
       "  {'max_depth': 2, 'n_estimators': 250},\n",
       "  {'max_depth': 4, 'n_estimators': 10},\n",
       "  {'max_depth': 4, 'n_estimators': 100},\n",
       "  {'max_depth': 4, 'n_estimators': 250},\n",
       "  {'max_depth': 6, 'n_estimators': 10},\n",
       "  {'max_depth': 6, 'n_estimators': 100},\n",
       "  {'max_depth': 6, 'n_estimators': 250},\n",
       "  {'max_depth': 8, 'n_estimators': 10},\n",
       "  {'max_depth': 8, 'n_estimators': 100},\n",
       "  {'max_depth': 8, 'n_estimators': 250}],\n",
       " 'split0_test_score': array([0.58490566, 0.77830189, 0.75707547, 0.74056604, 0.8254717 ,\n",
       "        0.81603774, 0.8490566 , 0.90566038, 0.91509434, 0.91273585,\n",
       "        0.94811321, 0.94339623, 0.92216981, 0.9504717 , 0.95754717]),\n",
       " 'split1_test_score': array([0.48803828, 0.71052632, 0.75119617, 0.64354067, 0.8062201 ,\n",
       "        0.81578947, 0.83971292, 0.90191388, 0.89712919, 0.89712919,\n",
       "        0.94976077, 0.94258373, 0.90669856, 0.96411483, 0.9569378 ]),\n",
       " 'split2_test_score': array([0.56385542, 0.74939759, 0.72048193, 0.70843373, 0.84096386,\n",
       "        0.83855422, 0.84578313, 0.92048193, 0.92289157, 0.91084337,\n",
       "        0.95421687, 0.95180723, 0.91807229, 0.96385542, 0.9686747 ]),\n",
       " 'mean_test_score': array([0.54574383, 0.74622116, 0.74303898, 0.69769292, 0.82418457,\n",
       "        0.82338902, 0.84486874, 0.90930788, 0.91169451, 0.90692124,\n",
       "        0.95067621, 0.94590294, 0.91567224, 0.95942721, 0.9610183 ]),\n",
       " 'std_test_score': array([0.04162864, 0.02782402, 0.01601789, 0.04041357, 0.01417139,\n",
       "        0.01064721, 0.00387706, 0.00799315, 0.01076284, 0.00695473,\n",
       "        0.00257552, 0.00415842, 0.00655139, 0.00639013, 0.00538096]),\n",
       " 'rank_test_score': array([15, 12, 13, 14, 10, 11,  9,  7,  6,  8,  3,  4,  5,  2,  1],\n",
       "       dtype=int32)}"
      ]
     },
     "execution_count": 37,
     "metadata": {},
     "output_type": "execute_result"
    }
   ],
   "source": [
    "gs.cv_results_"
   ]
  },
  {
   "cell_type": "code",
   "execution_count": 41,
   "metadata": {},
   "outputs": [
    {
     "data": {
      "text/plain": [
       "array([0.51392204, 0.69769292, 0.73747017, 0.71996818, 0.82816229,\n",
       "       0.8265712 , 0.84407319, 0.91010342, 0.91408115, 0.89976134,\n",
       "       0.95147176, 0.94590294, 0.92362768, 0.95544948, 0.96260939,\n",
       "       0.93874304, 0.96499602, 0.96499602, 0.93158313, 0.97136038,\n",
       "       0.96499602])"
      ]
     },
     "execution_count": 41,
     "metadata": {},
     "output_type": "execute_result"
    }
   ],
   "source": [
    "gs.cv_results_['mean_test_score']"
   ]
  },
  {
   "cell_type": "code",
   "execution_count": 42,
   "metadata": {},
   "outputs": [
    {
     "data": {
      "text/plain": [
       "(21,)"
      ]
     },
     "execution_count": 42,
     "metadata": {},
     "output_type": "execute_result"
    }
   ],
   "source": [
    "gs.cv_results_['mean_test_score'].shape"
   ]
  },
  {
   "cell_type": "code",
   "execution_count": null,
   "metadata": {},
   "outputs": [],
   "source": []
  }
 ],
 "metadata": {
  "kernelspec": {
   "display_name": "Python 3",
   "language": "python",
   "name": "python3"
  },
  "language_info": {
   "codemirror_mode": {
    "name": "ipython",
    "version": 3
   },
   "file_extension": ".py",
   "mimetype": "text/x-python",
   "name": "python",
   "nbconvert_exporter": "python",
   "pygments_lexer": "ipython3",
   "version": "3.7.4"
  }
 },
 "nbformat": 4,
 "nbformat_minor": 2
}
